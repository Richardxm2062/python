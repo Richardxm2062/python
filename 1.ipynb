{
 "cells": [
  {
   "cell_type": "code",
   "execution_count": null,
   "metadata": {},
   "outputs": [
    {
     "ename": "",
     "evalue": "",
     "output_type": "error",
     "traceback": [
      "\u001b[1;31mRunning cells with 'Python 3.13.0' requires the ipykernel package.\n",
      "\u001b[1;31mRun the following command to install 'ipykernel' into the Python environment. \n",
      "\u001b[1;31mCommand: '/usr/local/bin/python3 -m pip install ipykernel -U --user --force-reinstall'"
     ]
    }
   ],
   "source": [
    "import numpy as np\n",
    "import matplotlib.pyplot as plt\n",
    "import matplotlib.animation as animation\n",
    "from matplotlib.patches import FancyArrowPatch\n",
    "import ipywidgets as widgets\n",
    "from IPython.display import display\n",
    "\n",
    "# Constants\n",
    "g = 10  # Acceleration due to gravity (m/s^2)\n",
    "\n",
    "def plot_trajectory(v0, h):\n",
    "    t_max = np.sqrt(2 * h / g)\n",
    "    t = np.linspace(0, t_max, num=200)\n",
    "    x = v0 * t\n",
    "    y = h - 0.5 * g * t**2\n",
    "\n",
    "    fig, ax = plt.subplots()\n",
    "    ax.set_xlim(0, max(x) * 1.2)\n",
    "    ax.set_ylim(0, h * 1.1)\n",
    "    ax.invert_yaxis()\n",
    "    ax.set_xlabel(\"Horizontal Distance (m)\")\n",
    "    ax.set_ylabel(\"Vertical Distance (m)\")\n",
    "    ax.set_title(\"Trajectory of Horizontal Projectile\")\n",
    "\n",
    "    ax.add_patch(FancyArrowPatch((0, 0), (max(x) * 1.2, 0), mutation_scale=15, color=\"black\"))\n",
    "    ax.add_patch(FancyArrowPatch((0, 0), (0, h * 1.1), mutation_scale=15, color=\"black\"))\n",
    "\n",
    "    trajectory_line, = ax.plot([], [], 'r--', lw=2)\n",
    "    bullet_dot, = ax.plot([], [], 'bo', markersize=6)\n",
    "\n",
    "    def init():\n",
    "        trajectory_line.set_data([], [])\n",
    "        bullet_dot.set_data([], [])\n",
    "        return trajectory_line, bullet_dot\n",
    "\n",
    "    def animate(i):\n",
    "        trajectory_line.set_data(x[:i], y[:i])\n",
    "        bullet_dot.set_data([x[i]], [y[i]])\n",
    "        return trajectory_line, bullet_dot\n",
    "\n",
    "    ani = animation.FuncAnimation(fig, animate, frames=len(x), init_func=init, interval=10, blit=True)\n",
    "    plt.show()\n",
    "\n",
    "# Create interactive widgets\n",
    "v0_slider = widgets.FloatSlider(value=300, min=0, max=500, step=10, description='Initial Velocity (m/s):')\n",
    "h_slider = widgets.FloatSlider(value=18, min=0, max=100, step=1, description='Initial Height (m):')\n",
    "\n",
    "# Display widgets and link to the plot_trajectory function\n",
    "widgets.interactive(plot_trajectory, v0=v0_slider, h=h_slider)"
   ]
  },
  {
   "cell_type": "code",
   "execution_count": null,
   "metadata": {},
   "outputs": [],
   "source": []
  }
 ],
 "metadata": {
  "kernelspec": {
   "display_name": "Python 3",
   "language": "python",
   "name": "python3"
  },
  "language_info": {
   "name": "python",
   "version": "3.11.8"
  }
 },
 "nbformat": 4,
 "nbformat_minor": 2
}
