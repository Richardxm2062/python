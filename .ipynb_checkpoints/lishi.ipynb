{
 "cells": [
  {
   "cell_type": "code",
   "execution_count": 2,
   "metadata": {
    "tags": []
   },
   "outputs": [
    {
     "output_type": "stream",
     "name": "stdout",
     "text": [
      "需要 2.0 小时 13.33333333333334 分钟\n"
     ]
    }
   ],
   "source": [
    "import numpy as np\n",
    "import math \n",
    "import ipdb\n",
    "\n",
    "def time(x):\n",
    "    x = np.array(x)\n",
    "    sumtime = np.sum(x)\n",
    "    allhtime = sumtime / (60*1.5)\n",
    "    dhtime = math.modf(allhtime)\n",
    "    lefttime = dhtime[0] * 60\n",
    "    print(\"需要\",dhtime[1],\"小时\",lefttime,\"分钟\")    \n",
    "    \n",
    "\n",
    "def main():\n",
    "    x = input(\"Please input the x \\n\")\n",
    "    x = [int(n) for n in x.split()]\n",
    "    time(x)\n",
    "\n",
    "\n",
    "main()\n",
    "\n",
    "m = [1,2,3]"
   ]
  },
  {
   "cell_type": "code",
   "execution_count": null,
   "metadata": {},
   "outputs": [],
   "source": []
  }
 ],
 "metadata": {
  "kernelspec": {
   "name": "python3",
   "display_name": "Python 3.8.10 64-bit ('base': conda)"
  },
  "interpreter": {
   "hash": "1da3b8d5d2b35f8d6916b9b5028689a5ab0c155935f9b66db936c8cca3d1e273"
  }
 },
 "nbformat": 4,
 "nbformat_minor": 4
}